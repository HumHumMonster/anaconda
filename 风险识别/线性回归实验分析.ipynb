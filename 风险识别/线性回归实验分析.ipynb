{
 "cells": [
  {
   "cell_type": "code",
   "execution_count": 3,
   "metadata": {},
   "outputs": [],
   "source": [
    "import numpy as np\n",
    "import matplotlib.pyplot as plt\n",
    "X = 2 * np.random.rand(100 , 1) ;\n",
    "Y = 4 + 3 * X + np.random.randn(100 , 1)"
   ]
  },
  {
   "cell_type": "code",
   "execution_count": 5,
   "metadata": {},
   "outputs": [
    {
     "data": {
      "image/png": "[encoded data removed]",
      "text/plain": [
       "<Figure size 640x480 with 1 Axes>"
      ]
     },
     "metadata": {},
     "output_type": "display_data"
    }
   ],
   "source": [
    "plt.plot(X , Y , 'b.')\n",
    "plt.xlabel(\"X\")\n",
    "plt.ylabel(\"Y\")\n",
    "plt.axis([0 , 2 , 0 , 15])\n",
    "plt.show()"
   ]
  },
  {
   "cell_type": "code",
   "execution_count": 7,
   "metadata": {},
   "outputs": [],
   "source": [
    "X_b = np.c_[np.ones((100 , 1)) , X]\n",
    "theta_best = np.linalg.inv(X_b.T.dot(X_b)).dot(X_b.T).dot(Y)"
   ]
  },
  {
   "cell_type": "code",
   "execution_count": 8,
   "metadata": {},
   "outputs": [
    {
     "data": {
      "text/plain": [
       "array([[1.        , 0.07593662],\n",
       "       [1.        , 1.82338785],\n",
       "       [1.        , 0.41001835],\n",
       "       [1.        , 1.99576122],\n",
       "       [1.        , 1.0629506 ],\n",
       "       [1.        , 0.98104117],\n",
       "       [1.        , 0.89868998],\n",
       "       [1.        , 1.6662657 ],\n",
       "       [1.        , 0.51984234],\n",
       "       [1.        , 0.13002965],\n",
       "       [1.        , 1.20325166],\n",
       "       [1.        , 0.84880227],\n",
       "       [1.        , 1.20179626],\n",
       "       [1.        , 0.16196358],\n",
       "       [1.        , 0.07120478],\n",
       "       [1.        , 1.80454114],\n",
       "       [1.        , 1.34779993],\n",
       "       [1.        , 0.40333835],\n",
       "       [1.        , 1.68036376],\n",
       "       [1.        , 0.3659524 ],\n",
       "       [1.        , 0.06320708],\n",
       "       [1.        , 0.53394579],\n",
       "       [1.        , 1.69559637],\n",
       "       [1.        , 1.98532729],\n",
       "       [1.        , 1.41726957],\n",
       "       [1.        , 0.79034521],\n",
       "       [1.        , 1.33813249],\n",
       "       [1.        , 0.96152459],\n",
       "       [1.        , 1.82131282],\n",
       "       [1.        , 0.66260796],\n",
       "       [1.        , 1.39845789],\n",
       "       [1.        , 0.03965343],\n",
       "       [1.        , 0.69396828],\n",
       "       [1.        , 0.61715543],\n",
       "       [1.        , 1.31963365],\n",
       "       [1.        , 0.12388517],\n",
       "       [1.        , 0.19876275],\n",
       "       [1.        , 1.91261739],\n",
       "       [1.        , 0.62135432],\n",
       "       [1.        , 1.07510862],\n",
       "       [1.        , 0.59698734],\n",
       "       [1.        , 1.71782918],\n",
       "       [1.        , 0.68947613],\n",
       "       [1.        , 1.10579198],\n",
       "       [1.        , 1.85164464],\n",
       "       [1.        , 0.25089907],\n",
       "       [1.        , 0.08832419],\n",
       "       [1.        , 0.64923947],\n",
       "       [1.        , 1.86670503],\n",
       "       [1.        , 0.25127666],\n",
       "       [1.        , 1.19431733],\n",
       "       [1.        , 1.16397495],\n",
       "       [1.        , 1.39537809],\n",
       "       [1.        , 1.93195594],\n",
       "       [1.        , 1.47385826],\n",
       "       [1.        , 1.99882619],\n",
       "       [1.        , 1.2159326 ],\n",
       "       [1.        , 1.71968551],\n",
       "       [1.        , 1.36173268],\n",
       "       [1.        , 1.51735767],\n",
       "       [1.        , 0.7703461 ],\n",
       "       [1.        , 1.90703512],\n",
       "       [1.        , 1.8511483 ],\n",
       "       [1.        , 1.00603175],\n",
       "       [1.        , 0.02816744],\n",
       "       [1.        , 0.41642364],\n",
       "       [1.        , 1.27974266],\n",
       "       [1.        , 0.89717991],\n",
       "       [1.        , 0.58755358],\n",
       "       [1.        , 0.81258271],\n",
       "       [1.        , 0.8598346 ],\n",
       "       [1.        , 0.54131371],\n",
       "       [1.        , 1.61570443],\n",
       "       [1.        , 0.72016797],\n",
       "       [1.        , 0.4330556 ],\n",
       "       [1.        , 0.3384791 ],\n",
       "       [1.        , 1.00744691],\n",
       "       [1.        , 1.26724729],\n",
       "       [1.        , 0.90183591],\n",
       "       [1.        , 0.76742224],\n",
       "       [1.        , 1.95845221],\n",
       "       [1.        , 1.570039  ],\n",
       "       [1.        , 1.58048445],\n",
       "       [1.        , 1.62110391],\n",
       "       [1.        , 0.24040477],\n",
       "       [1.        , 0.69612312],\n",
       "       [1.        , 0.00472678],\n",
       "       [1.        , 0.64531767],\n",
       "       [1.        , 1.22973946],\n",
       "       [1.        , 1.46903805],\n",
       "       [1.        , 0.84976489],\n",
       "       [1.        , 0.42317058],\n",
       "       [1.        , 1.74447277],\n",
       "       [1.        , 0.32868946],\n",
       "       [1.        , 1.5141705 ],\n",
       "       [1.        , 0.94597483],\n",
       "       [1.        , 0.3195603 ],\n",
       "       [1.        , 0.14911173],\n",
       "       [1.        , 0.2405358 ],\n",
       "       [1.        , 1.20207775]])"
      ]
     },
     "execution_count": 8,
     "metadata": {},
     "output_type": "execute_result"
    }
   ],
   "source": [
    "X_b"
   ]
  }
 ],
 "metadata": {
  "kernelspec": {
   "display_name": "base",
   "language": "python",
   "name": "python3"
  },
  "language_info": {
   "codemirror_mode": {
    "name": "ipython",
    "version": 3
   },
   "file_extension": ".py",
   "mimetype": "text/x-python",
   "name": "python",
   "nbconvert_exporter": "python",
   "pygments_lexer": "ipython3",
   "version": "3.9.13"
  },
  "orig_nbformat": 4
 },
 "nbformat": 4,
 "nbformat_minor": 2
}
