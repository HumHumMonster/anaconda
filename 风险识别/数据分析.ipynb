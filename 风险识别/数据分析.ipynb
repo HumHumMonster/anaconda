{
 "cells": [
  {
   "cell_type": "code",
   "execution_count": 1,
   "metadata": {},
   "outputs": [],
   "source": [
    "import numpy as np\n",
    "import  functools\n",
    "import pandas as pd\n",
    "import matplotlib.pyplot as plt\n",
    "from collections import defaultdict, Counter"
   ]
  },
  {
   "cell_type": "code",
   "execution_count": 2,
   "metadata": {},
   "outputs": [],
   "source": [
    "# 汉字字体，优先使用楷体，找不到则使用黑体\n",
    "plt.rcParams['font.sans-serif'] = ['Kaitt', 'SimHei']\n",
    " \n",
    "# 正常显示负号\n",
    "plt.rcParams['axes.unicode_minus'] = False"
   ]
  },
  {
   "cell_type": "code",
   "execution_count": 3,
   "metadata": {},
   "outputs": [],
   "source": [
    "pd.set_option('display.max_rows', None)  # 显示所有行\n",
    "pd.set_option('display.max_columns', None)  # 显示所有列\n",
    "pd.set_option('expand_frame_repr', False)  # 即“禁止换行”\n",
    "# pd.set_option('display.precision', 2) #展示两位小数点\n",
    "pd.set_option('display.float_format', lambda x: '%.2f' % x)"
   ]
  },
  {
   "cell_type": "code",
   "execution_count": 4,
   "metadata": {},
   "outputs": [],
   "source": [
    "df_data_交易=pd.read_csv('data/账户交易信息.csv')\n",
    "df_data_交易.columns = ['交易流水序号','账户代号','对方账号','借贷标志','交易金额','交易余额','对方行号','交易日期','交易时间','交易渠道','摘要代号','对方名称长度']\n",
    "df_data_交易 = df_data_交易.sort_values([\"交易日期\" , \"交易时间\"])\n",
    "df_data_账户=pd.read_csv('data/账户静态信息.csv')\n",
    "df_data_账户.columns = ['账户代号','开户日期','开户行代号','客户性别','年龄']\n",
    "df_label_train=pd.read_csv('data/训练集标签.csv')\n",
    "df_label_train.columns = ['账户代号','label']\n",
    "df_label_test=pd.read_csv('data/test_dataset.csv')\n",
    "df_label_test.columns = ['账户代号']## 读取数据\n",
    "df_label_all=pd.concat([df_label_train,df_label_test])"
   ]
  },
  {
   "cell_type": "code",
   "execution_count": 5,
   "metadata": {},
   "outputs": [],
   "source": [
    "list_交易_金额为负_index = list(df_data_交易[df_data_交易[\"交易金额\"] < 0].index)\n",
    "list_mz_index = [] ;\n",
    "list_交易_金额为负_对应的失败交易_index = [] ;\n",
    "for i in list_交易_金额为负_index :\n",
    "    S_now = df_data_交易.loc[i] ;\n",
    "    j = i ;\n",
    "    while (True) :\n",
    "        j -= 1 ;\n",
    "        S_nex = df_data_交易.loc[j] ;\n",
    "        if (S_now[\"交易金额\"] == -S_nex[\"交易金额\"]) :\n",
    "            if (S_now[\"账户代号\"] == S_nex[\"账户代号\"]) :\n",
    "                list_交易_金额为负_对应的失败交易_index.append(j) ;\n",
    "                list_mz_index.append(i) ;\n",
    "                break ;\n",
    "list_交易_抹账需要去除_index = list_交易_金额为负_index + list_交易_金额为负_对应的失败交易_index ;\n",
    "df_data_交易_去除抹账后=df_data_交易[~df_data_交易.index.isin(list_交易_抹账需要去除_index)]"
   ]
  },
  {
   "cell_type": "code",
   "execution_count": 6,
   "metadata": {},
   "outputs": [],
   "source": [
    "df_data_交易_去除抹账后 = df_data_交易_去除抹账后.sort_values([\"交易日期\" , \"交易时间\"])"
   ]
  },
  {
   "cell_type": "code",
   "execution_count": 57,
   "metadata": {},
   "outputs": [],
   "source": [
    "# 找到每个客户最后一笔交易日期\n",
    "df_tz_last_and_biggist = df_label_all[[\"账户代号\"]].copy()"
   ]
  },
  {
   "cell_type": "code",
   "execution_count": 58,
   "metadata": {},
   "outputs": [
    {
     "data": {
      "text/html": [
       "<div>\n",
       "<style scoped>\n",
       "    .dataframe tbody tr th:only-of-type {\n",
       "        vertical-align: middle;\n",
       "    }\n",
       "\n",
       "    .dataframe tbody tr th {\n",
       "        vertical-align: top;\n",
       "    }\n",
       "\n",
       "    .dataframe thead th {\n",
       "        text-align: right;\n",
       "    }\n",
       "</style>\n",
       "<table border=\"1\" class=\"dataframe\">\n",
       "  <thead>\n",
       "    <tr style=\"text-align: right;\">\n",
       "      <th></th>\n",
       "      <th>账户代号</th>\n",
       "    </tr>\n",
       "  </thead>\n",
       "  <tbody>\n",
       "    <tr>\n",
       "      <th>0</th>\n",
       "      <td>2029FF26D4E2CA79</td>\n",
       "    </tr>\n",
       "    <tr>\n",
       "      <th>1</th>\n",
       "      <td>09F5B90D46FB7CCE</td>\n",
       "    </tr>\n",
       "    <tr>\n",
       "      <th>2</th>\n",
       "      <td>E0C880EB18F4EFE8</td>\n",
       "    </tr>\n",
       "    <tr>\n",
       "      <th>3</th>\n",
       "      <td>ED8FFDCCF93C2F11</td>\n",
       "    </tr>\n",
       "    <tr>\n",
       "      <th>4</th>\n",
       "      <td>8D2F48B0BFC40AB2</td>\n",
       "    </tr>\n",
       "  </tbody>\n",
       "</table>\n",
       "</div>"
      ],
      "text/plain": [
       "               账户代号\n",
       "0  2029FF26D4E2CA79\n",
       "1  09F5B90D46FB7CCE\n",
       "2  E0C880EB18F4EFE8\n",
       "3  ED8FFDCCF93C2F11\n",
       "4  8D2F48B0BFC40AB2"
      ]
     },
     "execution_count": 58,
     "metadata": {},
     "output_type": "execute_result"
    }
   ],
   "source": [
    "df_tz_last_and_biggist.head()"
   ]
  },
  {
   "cell_type": "code",
   "execution_count": null,
   "metadata": {},
   "outputs": [],
   "source": [
    "df_tmp = pd.DataFrame(data=None,columns=['账户代号','最大交易金额发生日期'])\n",
    "for (name, df) in df_data_交易_去除抹账后.groupby(\"账户代号\") :\n",
    "    df_tmp = df_tmp.append({'账户代号': name , \"最大交易金额发生日期\" : pd.to_datetime(df.nlargest(1 , \"交易金额\")[\"交易日期\"]) }, ignore_index=True)"
   ]
  },
  {
   "cell_type": "code",
   "execution_count": 88,
   "metadata": {},
   "outputs": [],
   "source": [
    "df_tz_last_and_biggist = df_tz_last_and_biggist.merge(df_tmp , on=\"账户代号\" , how=\"left\")"
   ]
  },
  {
   "cell_type": "code",
   "execution_count": 89,
   "metadata": {},
   "outputs": [
    {
     "data": {
      "text/html": [
       "<div>\n",
       "<style scoped>\n",
       "    .dataframe tbody tr th:only-of-type {\n",
       "        vertical-align: middle;\n",
       "    }\n",
       "\n",
       "    .dataframe tbody tr th {\n",
       "        vertical-align: top;\n",
       "    }\n",
       "\n",
       "    .dataframe thead th {\n",
       "        text-align: right;\n",
       "    }\n",
       "</style>\n",
       "<table border=\"1\" class=\"dataframe\">\n",
       "  <thead>\n",
       "    <tr style=\"text-align: right;\">\n",
       "      <th></th>\n",
       "      <th>账户代号</th>\n",
       "      <th>最大交易金额发生日期</th>\n",
       "    </tr>\n",
       "  </thead>\n",
       "  <tbody>\n",
       "    <tr>\n",
       "      <th>0</th>\n",
       "      <td>2029FF26D4E2CA79</td>\n",
       "      <td>347963   2020-04-08\n",
       "Name: 交易日期, dtype: datetim...</td>\n",
       "    </tr>\n",
       "    <tr>\n",
       "      <th>1</th>\n",
       "      <td>09F5B90D46FB7CCE</td>\n",
       "      <td>473507   2020-04-23\n",
       "Name: 交易日期, dtype: datetim...</td>\n",
       "    </tr>\n",
       "    <tr>\n",
       "      <th>2</th>\n",
       "      <td>E0C880EB18F4EFE8</td>\n",
       "      <td>631777   2020-05-11\n",
       "Name: 交易日期, dtype: datetim...</td>\n",
       "    </tr>\n",
       "    <tr>\n",
       "      <th>3</th>\n",
       "      <td>ED8FFDCCF93C2F11</td>\n",
       "      <td>569665   2020-05-04\n",
       "Name: 交易日期, dtype: datetim...</td>\n",
       "    </tr>\n",
       "    <tr>\n",
       "      <th>4</th>\n",
       "      <td>8D2F48B0BFC40AB2</td>\n",
       "      <td>738437   2020-05-23\n",
       "Name: 交易日期, dtype: datetim...</td>\n",
       "    </tr>\n",
       "  </tbody>\n",
       "</table>\n",
       "</div>"
      ],
      "text/plain": [
       "               账户代号                                         最大交易金额发生日期\n",
       "0  2029FF26D4E2CA79  347963   2020-04-08\n",
       "Name: 交易日期, dtype: datetim...\n",
       "1  09F5B90D46FB7CCE  473507   2020-04-23\n",
       "Name: 交易日期, dtype: datetim...\n",
       "2  E0C880EB18F4EFE8  631777   2020-05-11\n",
       "Name: 交易日期, dtype: datetim...\n",
       "3  ED8FFDCCF93C2F11  569665   2020-05-04\n",
       "Name: 交易日期, dtype: datetim...\n",
       "4  8D2F48B0BFC40AB2  738437   2020-05-23\n",
       "Name: 交易日期, dtype: datetim..."
      ]
     },
     "execution_count": 89,
     "metadata": {},
     "output_type": "execute_result"
    }
   ],
   "source": [
    "df_tz_last_and_biggist.head()"
   ]
  },
  {
   "cell_type": "code",
   "execution_count": 98,
   "metadata": {},
   "outputs": [
    {
     "name": "stdout",
     "output_type": "stream",
     "text": [
      "473507   2020-04-23\n",
      "Name: 交易日期, dtype: datetime64[ns]\n"
     ]
    }
   ],
   "source": [
    "type (df_tz_last_and_biggist.iloc[1 , 1])\n",
    "print (df_tz_last_and_biggist.iloc[1 , 1])"
   ]
  },
  {
   "cell_type": "code",
   "execution_count": 94,
   "metadata": {},
   "outputs": [],
   "source": [
    "df_tmp = df_data_交易_去除抹账后.groupby(\"账户代号\")[\"交易日期\"].max().reset_index().head()\n",
    "df_tmp[\"交易日期\"] = pd.to_datetime(df_tmp[\"交易日期\"])\n",
    "df_tmp.columns = [\"账户代号\" , \"最后交易日期\"]"
   ]
  },
  {
   "cell_type": "code",
   "execution_count": 95,
   "metadata": {},
   "outputs": [
    {
     "data": {
      "text/html": [
       "<div>\n",
       "<style scoped>\n",
       "    .dataframe tbody tr th:only-of-type {\n",
       "        vertical-align: middle;\n",
       "    }\n",
       "\n",
       "    .dataframe tbody tr th {\n",
       "        vertical-align: top;\n",
       "    }\n",
       "\n",
       "    .dataframe thead th {\n",
       "        text-align: right;\n",
       "    }\n",
       "</style>\n",
       "<table border=\"1\" class=\"dataframe\">\n",
       "  <thead>\n",
       "    <tr style=\"text-align: right;\">\n",
       "      <th></th>\n",
       "      <th>账户代号</th>\n",
       "      <th>最后交易日期</th>\n",
       "    </tr>\n",
       "  </thead>\n",
       "  <tbody>\n",
       "    <tr>\n",
       "      <th>0</th>\n",
       "      <td>00037295453A928A</td>\n",
       "      <td>2020-05-31</td>\n",
       "    </tr>\n",
       "    <tr>\n",
       "      <th>1</th>\n",
       "      <td>0004CC075464D54B</td>\n",
       "      <td>2020-05-21</td>\n",
       "    </tr>\n",
       "    <tr>\n",
       "      <th>2</th>\n",
       "      <td>000AA77144DC1BCC</td>\n",
       "      <td>2020-05-31</td>\n",
       "    </tr>\n",
       "    <tr>\n",
       "      <th>3</th>\n",
       "      <td>001ABBF3373AFC5B</td>\n",
       "      <td>2020-05-24</td>\n",
       "    </tr>\n",
       "    <tr>\n",
       "      <th>4</th>\n",
       "      <td>00310769938BC172</td>\n",
       "      <td>2020-05-29</td>\n",
       "    </tr>\n",
       "  </tbody>\n",
       "</table>\n",
       "</div>"
      ],
      "text/plain": [
       "               账户代号     最后交易日期\n",
       "0  00037295453A928A 2020-05-31\n",
       "1  0004CC075464D54B 2020-05-21\n",
       "2  000AA77144DC1BCC 2020-05-31\n",
       "3  001ABBF3373AFC5B 2020-05-24\n",
       "4  00310769938BC172 2020-05-29"
      ]
     },
     "execution_count": 95,
     "metadata": {},
     "output_type": "execute_result"
    }
   ],
   "source": [
    "df_tmp.head()"
   ]
  },
  {
   "cell_type": "code",
   "execution_count": 100,
   "metadata": {},
   "outputs": [
    {
     "data": {
      "text/plain": [
       "pandas._libs.tslibs.timestamps.Timestamp"
      ]
     },
     "execution_count": 100,
     "metadata": {},
     "output_type": "execute_result"
    }
   ],
   "source": [
    "type (df_tmp.iloc[1 , 1])"
   ]
  },
  {
   "cell_type": "code",
   "execution_count": 75,
   "metadata": {},
   "outputs": [
    {
     "data": {
      "text/html": [
       "<div>\n",
       "<style scoped>\n",
       "    .dataframe tbody tr th:only-of-type {\n",
       "        vertical-align: middle;\n",
       "    }\n",
       "\n",
       "    .dataframe tbody tr th {\n",
       "        vertical-align: top;\n",
       "    }\n",
       "\n",
       "    .dataframe thead th {\n",
       "        text-align: right;\n",
       "    }\n",
       "</style>\n",
       "<table border=\"1\" class=\"dataframe\">\n",
       "  <thead>\n",
       "    <tr style=\"text-align: right;\">\n",
       "      <th></th>\n",
       "      <th>时间</th>\n",
       "      <th>车牌</th>\n",
       "      <th>北纬</th>\n",
       "      <th>东经</th>\n",
       "    </tr>\n",
       "  </thead>\n",
       "  <tbody>\n",
       "  </tbody>\n",
       "</table>\n",
       "</div>"
      ],
      "text/plain": [
       "Empty DataFrame\n",
       "Columns: [时间, 车牌, 北纬, 东经]\n",
       "Index: []"
      ]
     },
     "execution_count": 75,
     "metadata": {},
     "output_type": "execute_result"
    }
   ],
   "source": [
    "import pandas as pd\n",
    "df = pd.DataFrame(data=None,columns=['时间','车牌','北纬','东经'])\n",
    "df"
   ]
  },
  {
   "cell_type": "code",
   "execution_count": null,
   "metadata": {},
   "outputs": [],
   "source": []
  }
 ],
 "metadata": {
  "kernelspec": {
   "display_name": "base",
   "language": "python",
   "name": "python3"
  },
  "language_info": {
   "codemirror_mode": {
    "name": "ipython",
    "version": 3
   },
   "file_extension": ".py",
   "mimetype": "text/x-python",
   "name": "python",
   "nbconvert_exporter": "python",
   "pygments_lexer": "ipython3",
   "version": "3.9.13"
  },
  "orig_nbformat": 4
 },
 "nbformat": 4,
 "nbformat_minor": 2
}
