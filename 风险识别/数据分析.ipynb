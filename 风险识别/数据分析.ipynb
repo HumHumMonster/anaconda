{
 "cells": [
  {
   "cell_type": "code",
   "execution_count": 1,
   "metadata": {},
   "outputs": [],
   "source": [
    "import numpy as np\n",
    "import pandas as pd"
   ]
  },
  {
   "cell_type": "code",
   "execution_count": 2,
   "metadata": {},
   "outputs": [],
   "source": [
    "pd.set_option('display.max_rows', None)  # 显示所有行\n",
    "pd.set_option('display.max_columns', None)  # 显示所有列\n",
    "pd.set_option('expand_frame_repr', False)  # 即“禁止换行”\n",
    "# pd.set_option('display.precision', 2) #展示两位小数点\n",
    "pd.set_option('display.float_format', lambda x: '%.2f' % x)"
   ]
  },
  {
   "cell_type": "code",
   "execution_count": 4,
   "metadata": {},
   "outputs": [],
   "source": [
    "df_data_交易=pd.read_csv('data/账户交易信息.csv')\n",
    "df_data_交易.columns = ['交易流水序号','账户代号','对方账号','借贷标志','交易金额','交易余额','对方行号','交易日期','交易时间','交易渠道','摘要代号','对方名称长度']\n",
    "df_data_账户=pd.read_csv('data/账户静态信息.csv')\n",
    "df_data_账户.columns = ['账户代号','开户日期','开户行代号','客户性别','年龄']\n",
    "df_label_train=pd.read_csv('data/训练集标签.csv')\n",
    "df_label_train.columns = ['账户代号','label']\n",
    "df_label_test=pd.read_csv('data/test_dataset.csv')\n",
    "df_label_test.columns = ['账户代号']## 读取数据\n",
    "df_label_all=pd.concat([df_label_train,df_label_test])"
   ]
  },
  {
   "cell_type": "code",
   "execution_count": null,
   "metadata": {},
   "outputs": [],
   "source": [
    "df_data_交易[df_data_交易[\"账户代号\"] == \"A1B18AD2A4B091A1\"].sort_values(by=[\"\"])"
   ]
  }
 ],
 "metadata": {
  "kernelspec": {
   "display_name": "base",
   "language": "python",
   "name": "python3"
  },
  "language_info": {
   "codemirror_mode": {
    "name": "ipython",
    "version": 3
   },
   "file_extension": ".py",
   "mimetype": "text/x-python",
   "name": "python",
   "nbconvert_exporter": "python",
   "pygments_lexer": "ipython3",
   "version": "3.9.13"
  },
  "orig_nbformat": 4
 },
 "nbformat": 4,
 "nbformat_minor": 2
}
