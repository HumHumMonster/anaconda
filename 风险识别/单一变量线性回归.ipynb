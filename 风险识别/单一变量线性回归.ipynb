{
 "cells": [
  {
   "cell_type": "code",
   "execution_count": 1,
   "metadata": {},
   "outputs": [],
   "source": [
    "import numpy as np\n",
    "import pandas as pd\n",
    "import matplotlib.pyplot as plt"
   ]
  },
  {
   "cell_type": "code",
   "execution_count": null,
   "metadata": {},
   "outputs": [],
   "source": [
    "from '../学习/唐宇迪/线性回归/LinearRegression.py' import LinearRegression \n"
   ]
  },
  {
   "cell_type": "code",
   "execution_count": 2,
   "metadata": {},
   "outputs": [],
   "source": [
    "df_zhjtxx = pd.read_csv('./data/账户静态信息.csv')"
   ]
  },
  {
   "cell_type": "code",
   "execution_count": 3,
   "metadata": {},
   "outputs": [
    {
     "data": {
      "text/html": [
       "<div>\n",
       "<style scoped>\n",
       "    .dataframe tbody tr th:only-of-type {\n",
       "        vertical-align: middle;\n",
       "    }\n",
       "\n",
       "    .dataframe tbody tr th {\n",
       "        vertical-align: top;\n",
       "    }\n",
       "\n",
       "    .dataframe thead th {\n",
       "        text-align: right;\n",
       "    }\n",
       "</style>\n",
       "<table border=\"1\" class=\"dataframe\">\n",
       "  <thead>\n",
       "    <tr style=\"text-align: right;\">\n",
       "      <th></th>\n",
       "      <th>zhdh</th>\n",
       "      <th>khrq</th>\n",
       "      <th>khjgdh</th>\n",
       "      <th>xb</th>\n",
       "      <th>年龄</th>\n",
       "    </tr>\n",
       "  </thead>\n",
       "  <tbody>\n",
       "    <tr>\n",
       "      <th>0</th>\n",
       "      <td>DDF394282B1E1508</td>\n",
       "      <td>2018-04-13</td>\n",
       "      <td>577BCC91</td>\n",
       "      <td>1</td>\n",
       "      <td>25</td>\n",
       "    </tr>\n",
       "    <tr>\n",
       "      <th>1</th>\n",
       "      <td>CAE68290A37CC77D</td>\n",
       "      <td>2016-04-02</td>\n",
       "      <td>34ED066D</td>\n",
       "      <td>1</td>\n",
       "      <td>27</td>\n",
       "    </tr>\n",
       "    <tr>\n",
       "      <th>2</th>\n",
       "      <td>41E4A8AECE47E5F3</td>\n",
       "      <td>2014-09-28</td>\n",
       "      <td>30BB3825</td>\n",
       "      <td>1</td>\n",
       "      <td>44</td>\n",
       "    </tr>\n",
       "    <tr>\n",
       "      <th>3</th>\n",
       "      <td>163C42F2A3FD518E</td>\n",
       "      <td>2010-06-11</td>\n",
       "      <td>34ED066D</td>\n",
       "      <td>1</td>\n",
       "      <td>55</td>\n",
       "    </tr>\n",
       "    <tr>\n",
       "      <th>4</th>\n",
       "      <td>6FBFEB03252FDB9F</td>\n",
       "      <td>2015-08-20</td>\n",
       "      <td>D64A340B</td>\n",
       "      <td>0</td>\n",
       "      <td>44</td>\n",
       "    </tr>\n",
       "  </tbody>\n",
       "</table>\n",
       "</div>"
      ],
      "text/plain": [
       "               zhdh        khrq    khjgdh  xb  年龄\n",
       "0  DDF394282B1E1508  2018-04-13  577BCC91   1  25\n",
       "1  CAE68290A37CC77D  2016-04-02  34ED066D   1  27\n",
       "2  41E4A8AECE47E5F3  2014-09-28  30BB3825   1  44\n",
       "3  163C42F2A3FD518E  2010-06-11  34ED066D   1  55\n",
       "4  6FBFEB03252FDB9F  2015-08-20  D64A340B   0  44"
      ]
     },
     "execution_count": 3,
     "metadata": {},
     "output_type": "execute_result"
    }
   ],
   "source": [
    "df_zhjtxx.head()"
   ]
  },
  {
   "cell_type": "code",
   "execution_count": 9,
   "metadata": {},
   "outputs": [],
   "source": [
    "train_data = df_zhjtxx.sample(frac = 0.8) ;\n",
    "test_data = df_zhjtxx.drop(train_data.index) ;"
   ]
  },
  {
   "cell_type": "code",
   "execution_count": 12,
   "metadata": {},
   "outputs": [
    {
     "data": {
      "text/plain": [
       "(4800, 5)"
      ]
     },
     "execution_count": 12,
     "metadata": {},
     "output_type": "execute_result"
    }
   ],
   "source": [
    "input_param_name = '特征列名' ;\n",
    "output_param_name = 'label列名' ;"
   ]
  },
  {
   "cell_type": "code",
   "execution_count": null,
   "metadata": {},
   "outputs": [],
   "source": [
    "x_train = train_data[input_param_name].values ;\n",
    "y_train = train_data[output_param_name].values ;"
   ]
  },
  {
   "cell_type": "code",
   "execution_count": null,
   "metadata": {},
   "outputs": [],
   "source": [
    "x_test = test_data[input_param_name].values ;\n",
    "y_test = test_data[output_param_name].values ;"
   ]
  },
  {
   "cell_type": "code",
   "execution_count": null,
   "metadata": {},
   "outputs": [],
   "source": [
    "plt.scatter(x_train, y_train, label='Train data') ;\n",
    "plt.scatter(x_test, y_test, label = 'Test data') ;\n",
    "plt.xlabel(input_param_name) ;\n",
    "plt.xlabel(output_param_name) ;\n",
    "plt.show() ;"
   ]
  }
 ],
 "metadata": {
  "kernelspec": {
   "display_name": "base",
   "language": "python",
   "name": "python3"
  },
  "language_info": {
   "codemirror_mode": {
    "name": "ipython",
    "version": 3
   },
   "file_extension": ".py",
   "mimetype": "text/x-python",
   "name": "python",
   "nbconvert_exporter": "python",
   "pygments_lexer": "ipython3",
   "version": "3.9.13"
  },
  "orig_nbformat": 4,
  "vscode": {
   "interpreter": {
    "hash": "ad2bdc8ecc057115af97d19610ffacc2b4e99fae6737bb82f5d7fb13d2f2c186"
   }
  }
 },
 "nbformat": 4,
 "nbformat_minor": 2
}
