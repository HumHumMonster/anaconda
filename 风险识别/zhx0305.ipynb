{
 "cells": [
  {
   "cell_type": "code",
   "execution_count": 1,
   "metadata": {},
   "outputs": [],
   "source": [
    "import numpy as np\n",
    "import pandas as pd\n",
    "from collections import defaultdict, Counter\n",
    "from gensim.models import Word2Vec\n",
    "import xgboost as xgb\n",
    "from catboost import CatBoostClassifier, CatBoostRegressor\n",
    "from sklearn.model_selection import StratifiedKFold, KFold, GroupKFold\n",
    "from sklearn.metrics import accuracy_score, f1_score, roc_auc_score, log_loss, mean_squared_log_error\n",
    "from sklearn.feature_extraction.text import TfidfVectorizer, CountVectorizer\n",
    "from sklearn.decomposition import TruncatedSVD, PCA\n",
    "import tqdm\n",
    "import sys\n",
    "import os\n",
    "import gc\n",
    "import argparse\n",
    "import warnings\n",
    "import lightgbm as lgb\n",
    "from lightgbm import early_stopping\n",
    "from lightgbm import log_evaluation\n",
    "from sklearn.model_selection import StratifiedKFold, KFold\n",
    "import matplotlib.pyplot as plt\n",
    "import seaborn as sns\n",
    "import category_encoders as ce\n",
    "import pickle\n",
    "#计算shap值\n",
    "import shap\n",
    "from sklearn.feature_extraction.text import TfidfVectorizer\n",
    "warnings.filterwarnings('ignore')\n",
    "plt.rcParams['font.sans-serif']=['SimHei']"
   ]
  },
  {
   "cell_type": "code",
   "execution_count": 2,
   "metadata": {},
   "outputs": [],
   "source": [
    "pd.set_option('display.max_rows', None)  # 显示所有行\n",
    "pd.set_option('display.max_columns', None)  # 显示所有列\n",
    "pd.set_option('expand_frame_repr', False)  # 即“禁止换行”\n",
    "# pd.set_option('display.precision', 2) #展示两位小数点\n",
    "pd.set_option('display.float_format', lambda x: '%.2f' % x)"
   ]
  },
  {
   "cell_type": "code",
   "execution_count": 3,
   "metadata": {},
   "outputs": [],
   "source": [
    "jy_df=pd.read_csv('data/账户交易信息.csv')\n",
    "jy_df.columns = ['交易流水序号','账户代号','对方账号','借贷标志','交易金额','交易余额','对方行号','交易日期','交易时间','交易渠道','摘要代号','对方名称长度']\n",
    "jt_df=pd.read_csv('data/账户静态信息.csv')\n",
    "jt_df.columns = ['账户代号','开户日期','开户行代号','客户性别','年龄']\n",
    "train_label=pd.read_csv('data/训练集标签.csv')\n",
    "train_label.columns = ['账户代号','label']\n",
    "test_df=pd.read_csv('data/test_dataset.csv')\n",
    "test_df.columns = ['账户代号']## 读取数据"
   ]
  },
  {
   "cell_type": "code",
   "execution_count": 4,
   "metadata": {},
   "outputs": [],
   "source": [
    "df_all=pd.concat([train_label,test_df])"
   ]
  },
  {
   "cell_type": "code",
   "execution_count": 5,
   "metadata": {},
   "outputs": [
    {
     "data": {
      "text/html": [
       "<div>\n",
       "<style scoped>\n",
       "    .dataframe tbody tr th:only-of-type {\n",
       "        vertical-align: middle;\n",
       "    }\n",
       "\n",
       "    .dataframe tbody tr th {\n",
       "        vertical-align: top;\n",
       "    }\n",
       "\n",
       "    .dataframe thead th {\n",
       "        text-align: right;\n",
       "    }\n",
       "</style>\n",
       "<table border=\"1\" class=\"dataframe\">\n",
       "  <thead>\n",
       "    <tr style=\"text-align: right;\">\n",
       "      <th></th>\n",
       "      <th>账户代号</th>\n",
       "      <th>label</th>\n",
       "    </tr>\n",
       "  </thead>\n",
       "  <tbody>\n",
       "    <tr>\n",
       "      <th>0</th>\n",
       "      <td>2029FF26D4E2CA79</td>\n",
       "      <td>0.00</td>\n",
       "    </tr>\n",
       "    <tr>\n",
       "      <th>1</th>\n",
       "      <td>09F5B90D46FB7CCE</td>\n",
       "      <td>1.00</td>\n",
       "    </tr>\n",
       "    <tr>\n",
       "      <th>2</th>\n",
       "      <td>E0C880EB18F4EFE8</td>\n",
       "      <td>1.00</td>\n",
       "    </tr>\n",
       "    <tr>\n",
       "      <th>3</th>\n",
       "      <td>ED8FFDCCF93C2F11</td>\n",
       "      <td>1.00</td>\n",
       "    </tr>\n",
       "    <tr>\n",
       "      <th>4</th>\n",
       "      <td>8D2F48B0BFC40AB2</td>\n",
       "      <td>1.00</td>\n",
       "    </tr>\n",
       "  </tbody>\n",
       "</table>\n",
       "</div>"
      ],
      "text/plain": [
       "               账户代号  label\n",
       "0  2029FF26D4E2CA79   0.00\n",
       "1  09F5B90D46FB7CCE   1.00\n",
       "2  E0C880EB18F4EFE8   1.00\n",
       "3  ED8FFDCCF93C2F11   1.00\n",
       "4  8D2F48B0BFC40AB2   1.00"
      ]
     },
     "execution_count": 5,
     "metadata": {},
     "output_type": "execute_result"
    }
   ],
   "source": [
    "df_all.head()"
   ]
  },
  {
   "attachments": {},
   "cell_type": "markdown",
   "metadata": {},
   "source": [
    "# 特征处理"
   ]
  },
  {
   "cell_type": "markdown",
   "metadata": {},
   "source": [
    "## 抹账处理"
   ]
  },
  {
   "cell_type": "code",
   "execution_count": 6,
   "metadata": {},
   "outputs": [],
   "source": [
    "# 抹账交易序号\n",
    "mz_index = [] ;"
   ]
  },
  {
   "cell_type": "code",
   "execution_count": 7,
   "metadata": {},
   "outputs": [],
   "source": [
    "# 抹账数据处理\n",
    "jy_mz_df=jy_df[jy_df['账户代号'].isin(jy_df[jy_df['交易金额']<0]['账户代号'].unique())].sort_values(by=['账户代号','交易日期','交易时间'],ascending=True)\n",
    "jy_mz_df.index=range(len(jy_mz_df))\n",
    "#待剔除数据\n",
    "tc_idx=set()\n",
    "for idx in jy_mz_df[jy_mz_df['交易金额']<0].index:\n",
    "    for d in range(1,5):\n",
    "        #print(idx)\n",
    "        if -jy_mz_df.loc[idx,'交易金额']==jy_mz_df.loc[idx-d,'交易金额'] and jy_mz_df.loc[idx,'账户代号']==jy_mz_df.loc[idx-d,'账户代号']\\\n",
    "            and jy_mz_df.loc[idx,'对方账号']==jy_mz_df.loc[idx-d,'对方账号']:\n",
    "                mz_index.append(idx-d) ;\n",
    "                tc_idx.add(idx)\n",
    "                tc_idx.add(idx-d)\n",
    "                break\n",
    "tc_idx=list(tc_idx)\n",
    "jy_clean_df=jy_mz_df[~jy_mz_df.index.isin(tc_idx)]\n",
    "jy_clean_df=pd.concat([jy_clean_df,jy_df[jy_df['交易金额']>=0]])"
   ]
  },
  {
   "cell_type": "code",
   "execution_count": 8,
   "metadata": {},
   "outputs": [],
   "source": [
    "# 取出抹账的数据\n",
    "df_mz = jy_mz_df.loc[mz_index , ['账户代号' , '交易金额']] ;\n",
    "df_mz_agg = df_mz.groupby('账户代号')['交易金额'].agg(['sum','count','mean','max','min','std',np.ptp]).reset_index() ;\n",
    "df_mz_agg.columns = ['账户代号'] + ['抹账_'+ f for f in df_mz_agg.columns.values if f not in ['账户代号']]"
   ]
  },
  {
   "cell_type": "code",
   "execution_count": 9,
   "metadata": {},
   "outputs": [
    {
     "data": {
      "text/html": [
       "<div>\n",
       "<style scoped>\n",
       "    .dataframe tbody tr th:only-of-type {\n",
       "        vertical-align: middle;\n",
       "    }\n",
       "\n",
       "    .dataframe tbody tr th {\n",
       "        vertical-align: top;\n",
       "    }\n",
       "\n",
       "    .dataframe thead th {\n",
       "        text-align: right;\n",
       "    }\n",
       "</style>\n",
       "<table border=\"1\" class=\"dataframe\">\n",
       "  <thead>\n",
       "    <tr style=\"text-align: right;\">\n",
       "      <th></th>\n",
       "      <th>账户代号</th>\n",
       "      <th>抹账_sum</th>\n",
       "      <th>抹账_count</th>\n",
       "      <th>抹账_mean</th>\n",
       "      <th>抹账_max</th>\n",
       "      <th>抹账_min</th>\n",
       "      <th>抹账_std</th>\n",
       "      <th>抹账_ptp</th>\n",
       "    </tr>\n",
       "  </thead>\n",
       "  <tbody>\n",
       "    <tr>\n",
       "      <th>0</th>\n",
       "      <td>00037295453A928A</td>\n",
       "      <td>4600.00</td>\n",
       "      <td>1</td>\n",
       "      <td>4600.00</td>\n",
       "      <td>4600.00</td>\n",
       "      <td>4600.00</td>\n",
       "      <td>NaN</td>\n",
       "      <td>0.00</td>\n",
       "    </tr>\n",
       "    <tr>\n",
       "      <th>1</th>\n",
       "      <td>000AA77144DC1BCC</td>\n",
       "      <td>3.00</td>\n",
       "      <td>2</td>\n",
       "      <td>1.50</td>\n",
       "      <td>2.00</td>\n",
       "      <td>1.00</td>\n",
       "      <td>0.71</td>\n",
       "      <td>1.00</td>\n",
       "    </tr>\n",
       "    <tr>\n",
       "      <th>2</th>\n",
       "      <td>0046934E42BB38B7</td>\n",
       "      <td>99.00</td>\n",
       "      <td>1</td>\n",
       "      <td>99.00</td>\n",
       "      <td>99.00</td>\n",
       "      <td>99.00</td>\n",
       "      <td>NaN</td>\n",
       "      <td>0.00</td>\n",
       "    </tr>\n",
       "    <tr>\n",
       "      <th>3</th>\n",
       "      <td>005D7A6EF2DD90C9</td>\n",
       "      <td>11050.00</td>\n",
       "      <td>1</td>\n",
       "      <td>11050.00</td>\n",
       "      <td>11050.00</td>\n",
       "      <td>11050.00</td>\n",
       "      <td>NaN</td>\n",
       "      <td>0.00</td>\n",
       "    </tr>\n",
       "    <tr>\n",
       "      <th>4</th>\n",
       "      <td>0146ED21079D88CF</td>\n",
       "      <td>103648.00</td>\n",
       "      <td>2</td>\n",
       "      <td>51824.00</td>\n",
       "      <td>100000.00</td>\n",
       "      <td>3648.00</td>\n",
       "      <td>68131.15</td>\n",
       "      <td>96352.00</td>\n",
       "    </tr>\n",
       "  </tbody>\n",
       "</table>\n",
       "</div>"
      ],
      "text/plain": [
       "               账户代号    抹账_sum  抹账_count  抹账_mean    抹账_max   抹账_min   抹账_std   抹账_ptp\n",
       "0  00037295453A928A   4600.00         1  4600.00   4600.00  4600.00      NaN     0.00\n",
       "1  000AA77144DC1BCC      3.00         2     1.50      2.00     1.00     0.71     1.00\n",
       "2  0046934E42BB38B7     99.00         1    99.00     99.00    99.00      NaN     0.00\n",
       "3  005D7A6EF2DD90C9  11050.00         1 11050.00  11050.00 11050.00      NaN     0.00\n",
       "4  0146ED21079D88CF 103648.00         2 51824.00 100000.00  3648.00 68131.15 96352.00"
      ]
     },
     "execution_count": 9,
     "metadata": {},
     "output_type": "execute_result"
    }
   ],
   "source": [
    "df_mz_agg.head()"
   ]
  },
  {
   "attachments": {},
   "cell_type": "markdown",
   "metadata": {},
   "source": [
    "## 深夜交易"
   ]
  },
  {
   "cell_type": "code",
   "execution_count": 10,
   "metadata": {},
   "outputs": [],
   "source": [
    "df_syjy = jy_clean_df[jy_clean_df['交易时间'] < \"06:30:00\"]\n",
    "df_syjy = pd.concat([df_syjy , jy_clean_df[jy_clean_df['交易时间'] > \"23:00:00\"]])\n",
    "# 共134101条"
   ]
  },
  {
   "cell_type": "code",
   "execution_count": 11,
   "metadata": {},
   "outputs": [
    {
     "data": {
      "text/html": [
       "<div>\n",
       "<style scoped>\n",
       "    .dataframe tbody tr th:only-of-type {\n",
       "        vertical-align: middle;\n",
       "    }\n",
       "\n",
       "    .dataframe tbody tr th {\n",
       "        vertical-align: top;\n",
       "    }\n",
       "\n",
       "    .dataframe thead th {\n",
       "        text-align: right;\n",
       "    }\n",
       "</style>\n",
       "<table border=\"1\" class=\"dataframe\">\n",
       "  <thead>\n",
       "    <tr style=\"text-align: right;\">\n",
       "      <th></th>\n",
       "      <th>交易流水序号</th>\n",
       "      <th>账户代号</th>\n",
       "      <th>对方账号</th>\n",
       "      <th>借贷标志</th>\n",
       "      <th>交易金额</th>\n",
       "      <th>交易余额</th>\n",
       "      <th>对方行号</th>\n",
       "      <th>交易日期</th>\n",
       "      <th>交易时间</th>\n",
       "      <th>交易渠道</th>\n",
       "      <th>摘要代号</th>\n",
       "      <th>对方名称长度</th>\n",
       "    </tr>\n",
       "  </thead>\n",
       "  <tbody>\n",
       "    <tr>\n",
       "      <th>12</th>\n",
       "      <td>7135AF28162520B3CD68B177D9BE4ECD</td>\n",
       "      <td>00037295453A928A</td>\n",
       "      <td>0F76A363EACBDEAF</td>\n",
       "      <td>0</td>\n",
       "      <td>4385.37</td>\n",
       "      <td>974.66</td>\n",
       "      <td>D41D8CD9</td>\n",
       "      <td>2020-03-06</td>\n",
       "      <td>00:30:24</td>\n",
       "      <td>757B505C</td>\n",
       "      <td>67D16D00</td>\n",
       "      <td>0</td>\n",
       "    </tr>\n",
       "    <tr>\n",
       "      <th>14</th>\n",
       "      <td>47F0FEC5A7B77BB768931962A9164B21</td>\n",
       "      <td>00037295453A928A</td>\n",
       "      <td>0F76A363EACBDEAF</td>\n",
       "      <td>1</td>\n",
       "      <td>2499.64</td>\n",
       "      <td>3336.30</td>\n",
       "      <td>D41D8CD9</td>\n",
       "      <td>2020-03-10</td>\n",
       "      <td>00:00:09</td>\n",
       "      <td>757B505C</td>\n",
       "      <td>D516B136</td>\n",
       "      <td>39</td>\n",
       "    </tr>\n",
       "    <tr>\n",
       "      <th>15</th>\n",
       "      <td>69EAC666C4B55A5E04504C3BB4291FC4</td>\n",
       "      <td>00037295453A928A</td>\n",
       "      <td>0F76A363EACBDEAF</td>\n",
       "      <td>1</td>\n",
       "      <td>2041.03</td>\n",
       "      <td>5377.33</td>\n",
       "      <td>D41D8CD9</td>\n",
       "      <td>2020-03-10</td>\n",
       "      <td>00:01:08</td>\n",
       "      <td>757B505C</td>\n",
       "      <td>D516B136</td>\n",
       "      <td>39</td>\n",
       "    </tr>\n",
       "    <tr>\n",
       "      <th>16</th>\n",
       "      <td>CB03E50464BDF55D11EA50A4C8D2E56F</td>\n",
       "      <td>00037295453A928A</td>\n",
       "      <td>0F76A363EACBDEAF</td>\n",
       "      <td>0</td>\n",
       "      <td>3425.65</td>\n",
       "      <td>1951.68</td>\n",
       "      <td>D41D8CD9</td>\n",
       "      <td>2020-03-10</td>\n",
       "      <td>00:34:49</td>\n",
       "      <td>757B505C</td>\n",
       "      <td>DD8EB9F2</td>\n",
       "      <td>0</td>\n",
       "    </tr>\n",
       "    <tr>\n",
       "      <th>18</th>\n",
       "      <td>66B88400E7942C516B3A4E6974A94F5E</td>\n",
       "      <td>00037295453A928A</td>\n",
       "      <td>EDE31EF0F69DC342</td>\n",
       "      <td>0</td>\n",
       "      <td>5000.00</td>\n",
       "      <td>4786.41</td>\n",
       "      <td>469F7281</td>\n",
       "      <td>2020-03-12</td>\n",
       "      <td>02:43:22</td>\n",
       "      <td>E96ED478</td>\n",
       "      <td>4E0CB6FB</td>\n",
       "      <td>12</td>\n",
       "    </tr>\n",
       "  </tbody>\n",
       "</table>\n",
       "</div>"
      ],
      "text/plain": [
       "                              交易流水序号              账户代号              对方账号  借贷标志    交易金额    交易余额      对方行号        交易日期      交易时间      交易渠道      摘要代号  对方名称长度\n",
       "12  7135AF28162520B3CD68B177D9BE4ECD  00037295453A928A  0F76A363EACBDEAF     0 4385.37  974.66  D41D8CD9  2020-03-06  00:30:24  757B505C  67D16D00       0\n",
       "14  47F0FEC5A7B77BB768931962A9164B21  00037295453A928A  0F76A363EACBDEAF     1 2499.64 3336.30  D41D8CD9  2020-03-10  00:00:09  757B505C  D516B136      39\n",
       "15  69EAC666C4B55A5E04504C3BB4291FC4  00037295453A928A  0F76A363EACBDEAF     1 2041.03 5377.33  D41D8CD9  2020-03-10  00:01:08  757B505C  D516B136      39\n",
       "16  CB03E50464BDF55D11EA50A4C8D2E56F  00037295453A928A  0F76A363EACBDEAF     0 3425.65 1951.68  D41D8CD9  2020-03-10  00:34:49  757B505C  DD8EB9F2       0\n",
       "18  66B88400E7942C516B3A4E6974A94F5E  00037295453A928A  EDE31EF0F69DC342     0 5000.00 4786.41  469F7281  2020-03-12  02:43:22  E96ED478  4E0CB6FB      12"
      ]
     },
     "execution_count": 11,
     "metadata": {},
     "output_type": "execute_result"
    }
   ],
   "source": [
    "df_syjy.head()"
   ]
  },
  {
   "cell_type": "code",
   "execution_count": 12,
   "metadata": {},
   "outputs": [],
   "source": [
    "df_syjy_agg = df_syjy.groupby('账户代号')['交易金额'].agg(['sum','count','mean','max','min','std',np.ptp]).reset_index() ;\n",
    "df_syjy_agg.columns = ['账户代号'] + ['深夜交易_'+ f for f in df_syjy_agg.columns.values if f not in ['账户代号']]"
   ]
  },
  {
   "cell_type": "code",
   "execution_count": 13,
   "metadata": {},
   "outputs": [
    {
     "data": {
      "text/html": [
       "<div>\n",
       "<style scoped>\n",
       "    .dataframe tbody tr th:only-of-type {\n",
       "        vertical-align: middle;\n",
       "    }\n",
       "\n",
       "    .dataframe tbody tr th {\n",
       "        vertical-align: top;\n",
       "    }\n",
       "\n",
       "    .dataframe thead th {\n",
       "        text-align: right;\n",
       "    }\n",
       "</style>\n",
       "<table border=\"1\" class=\"dataframe\">\n",
       "  <thead>\n",
       "    <tr style=\"text-align: right;\">\n",
       "      <th></th>\n",
       "      <th>账户代号</th>\n",
       "      <th>深夜交易_sum</th>\n",
       "      <th>深夜交易_count</th>\n",
       "      <th>深夜交易_mean</th>\n",
       "      <th>深夜交易_max</th>\n",
       "      <th>深夜交易_min</th>\n",
       "      <th>深夜交易_std</th>\n",
       "      <th>深夜交易_ptp</th>\n",
       "    </tr>\n",
       "  </thead>\n",
       "  <tbody>\n",
       "    <tr>\n",
       "      <th>0</th>\n",
       "      <td>00037295453A928A</td>\n",
       "      <td>456020.92</td>\n",
       "      <td>133</td>\n",
       "      <td>3428.73</td>\n",
       "      <td>11600.00</td>\n",
       "      <td>1.00</td>\n",
       "      <td>2594.55</td>\n",
       "      <td>11599.00</td>\n",
       "    </tr>\n",
       "    <tr>\n",
       "      <th>1</th>\n",
       "      <td>0004CC075464D54B</td>\n",
       "      <td>4.00</td>\n",
       "      <td>4</td>\n",
       "      <td>1.00</td>\n",
       "      <td>1.00</td>\n",
       "      <td>1.00</td>\n",
       "      <td>0.00</td>\n",
       "      <td>0.00</td>\n",
       "    </tr>\n",
       "    <tr>\n",
       "      <th>2</th>\n",
       "      <td>000AA77144DC1BCC</td>\n",
       "      <td>85043.88</td>\n",
       "      <td>104</td>\n",
       "      <td>817.73</td>\n",
       "      <td>7000.00</td>\n",
       "      <td>0.10</td>\n",
       "      <td>1373.02</td>\n",
       "      <td>6999.90</td>\n",
       "    </tr>\n",
       "    <tr>\n",
       "      <th>3</th>\n",
       "      <td>001ABBF3373AFC5B</td>\n",
       "      <td>1057.00</td>\n",
       "      <td>5</td>\n",
       "      <td>211.40</td>\n",
       "      <td>549.00</td>\n",
       "      <td>1.00</td>\n",
       "      <td>288.52</td>\n",
       "      <td>548.00</td>\n",
       "    </tr>\n",
       "    <tr>\n",
       "      <th>4</th>\n",
       "      <td>0039E8B1DF35A675</td>\n",
       "      <td>39876.14</td>\n",
       "      <td>29</td>\n",
       "      <td>1375.04</td>\n",
       "      <td>10587.00</td>\n",
       "      <td>1.00</td>\n",
       "      <td>2686.17</td>\n",
       "      <td>10586.00</td>\n",
       "    </tr>\n",
       "  </tbody>\n",
       "</table>\n",
       "</div>"
      ],
      "text/plain": [
       "               账户代号  深夜交易_sum  深夜交易_count  深夜交易_mean  深夜交易_max  深夜交易_min  深夜交易_std  深夜交易_ptp\n",
       "0  00037295453A928A 456020.92         133    3428.73  11600.00      1.00   2594.55  11599.00\n",
       "1  0004CC075464D54B      4.00           4       1.00      1.00      1.00      0.00      0.00\n",
       "2  000AA77144DC1BCC  85043.88         104     817.73   7000.00      0.10   1373.02   6999.90\n",
       "3  001ABBF3373AFC5B   1057.00           5     211.40    549.00      1.00    288.52    548.00\n",
       "4  0039E8B1DF35A675  39876.14          29    1375.04  10587.00      1.00   2686.17  10586.00"
      ]
     },
     "execution_count": 13,
     "metadata": {},
     "output_type": "execute_result"
    }
   ],
   "source": [
    "df_syjy_agg.head()"
   ]
  },
  {
   "attachments": {},
   "cell_type": "markdown",
   "metadata": {},
   "source": [
    "## 特征合并"
   ]
  },
  {
   "cell_type": "code",
   "execution_count": 14,
   "metadata": {},
   "outputs": [],
   "source": [
    "df_all=df_all.merge(df_mz_agg,on='账户代号',how='left') ;\n",
    "df_all=df_all.merge(df_syjy_agg,on='账户代号',how='left') ;\n"
   ]
  },
  {
   "cell_type": "code",
   "execution_count": 16,
   "metadata": {},
   "outputs": [
    {
     "data": {
      "text/html": [
       "<div>\n",
       "<style scoped>\n",
       "    .dataframe tbody tr th:only-of-type {\n",
       "        vertical-align: middle;\n",
       "    }\n",
       "\n",
       "    .dataframe tbody tr th {\n",
       "        vertical-align: top;\n",
       "    }\n",
       "\n",
       "    .dataframe thead th {\n",
       "        text-align: right;\n",
       "    }\n",
       "</style>\n",
       "<table border=\"1\" class=\"dataframe\">\n",
       "  <thead>\n",
       "    <tr style=\"text-align: right;\">\n",
       "      <th></th>\n",
       "      <th>账户代号</th>\n",
       "      <th>label</th>\n",
       "      <th>抹账_sum</th>\n",
       "      <th>抹账_count</th>\n",
       "      <th>抹账_mean</th>\n",
       "      <th>抹账_max</th>\n",
       "      <th>抹账_min</th>\n",
       "      <th>抹账_std</th>\n",
       "      <th>抹账_ptp</th>\n",
       "      <th>深夜交易_sum</th>\n",
       "      <th>深夜交易_count</th>\n",
       "      <th>深夜交易_mean</th>\n",
       "      <th>深夜交易_max</th>\n",
       "      <th>深夜交易_min</th>\n",
       "      <th>深夜交易_std</th>\n",
       "      <th>深夜交易_ptp</th>\n",
       "    </tr>\n",
       "  </thead>\n",
       "  <tbody>\n",
       "    <tr>\n",
       "      <th>0</th>\n",
       "      <td>2029FF26D4E2CA79</td>\n",
       "      <td>0.00</td>\n",
       "      <td>NaN</td>\n",
       "      <td>NaN</td>\n",
       "      <td>NaN</td>\n",
       "      <td>NaN</td>\n",
       "      <td>NaN</td>\n",
       "      <td>NaN</td>\n",
       "      <td>NaN</td>\n",
       "      <td>80701.30</td>\n",
       "      <td>4.00</td>\n",
       "      <td>20175.33</td>\n",
       "      <td>60000.00</td>\n",
       "      <td>6840.15</td>\n",
       "      <td>26549.89</td>\n",
       "      <td>53159.85</td>\n",
       "    </tr>\n",
       "    <tr>\n",
       "      <th>1</th>\n",
       "      <td>09F5B90D46FB7CCE</td>\n",
       "      <td>1.00</td>\n",
       "      <td>100000.00</td>\n",
       "      <td>1.00</td>\n",
       "      <td>100000.00</td>\n",
       "      <td>100000.00</td>\n",
       "      <td>100000.00</td>\n",
       "      <td>NaN</td>\n",
       "      <td>0.00</td>\n",
       "      <td>4.00</td>\n",
       "      <td>4.00</td>\n",
       "      <td>1.00</td>\n",
       "      <td>1.00</td>\n",
       "      <td>1.00</td>\n",
       "      <td>0.00</td>\n",
       "      <td>0.00</td>\n",
       "    </tr>\n",
       "    <tr>\n",
       "      <th>2</th>\n",
       "      <td>E0C880EB18F4EFE8</td>\n",
       "      <td>1.00</td>\n",
       "      <td>NaN</td>\n",
       "      <td>NaN</td>\n",
       "      <td>NaN</td>\n",
       "      <td>NaN</td>\n",
       "      <td>NaN</td>\n",
       "      <td>NaN</td>\n",
       "      <td>NaN</td>\n",
       "      <td>302.00</td>\n",
       "      <td>3.00</td>\n",
       "      <td>100.67</td>\n",
       "      <td>300.00</td>\n",
       "      <td>1.00</td>\n",
       "      <td>172.63</td>\n",
       "      <td>299.00</td>\n",
       "    </tr>\n",
       "    <tr>\n",
       "      <th>3</th>\n",
       "      <td>ED8FFDCCF93C2F11</td>\n",
       "      <td>1.00</td>\n",
       "      <td>2.00</td>\n",
       "      <td>1.00</td>\n",
       "      <td>2.00</td>\n",
       "      <td>2.00</td>\n",
       "      <td>2.00</td>\n",
       "      <td>NaN</td>\n",
       "      <td>0.00</td>\n",
       "      <td>53930.00</td>\n",
       "      <td>8.00</td>\n",
       "      <td>6741.25</td>\n",
       "      <td>24400.00</td>\n",
       "      <td>300.00</td>\n",
       "      <td>10920.22</td>\n",
       "      <td>24100.00</td>\n",
       "    </tr>\n",
       "    <tr>\n",
       "      <th>4</th>\n",
       "      <td>8D2F48B0BFC40AB2</td>\n",
       "      <td>1.00</td>\n",
       "      <td>5003.50</td>\n",
       "      <td>2.00</td>\n",
       "      <td>2501.75</td>\n",
       "      <td>5000.00</td>\n",
       "      <td>3.50</td>\n",
       "      <td>3533.06</td>\n",
       "      <td>4996.50</td>\n",
       "      <td>473301.50</td>\n",
       "      <td>148.00</td>\n",
       "      <td>3197.98</td>\n",
       "      <td>20000.00</td>\n",
       "      <td>3.50</td>\n",
       "      <td>3708.12</td>\n",
       "      <td>19996.50</td>\n",
       "    </tr>\n",
       "  </tbody>\n",
       "</table>\n",
       "</div>"
      ],
      "text/plain": [
       "               账户代号  label    抹账_sum  抹账_count   抹账_mean    抹账_max    抹账_min  抹账_std  抹账_ptp  深夜交易_sum  深夜交易_count  深夜交易_mean  深夜交易_max  深夜交易_min  深夜交易_std  深夜交易_ptp\n",
       "0  2029FF26D4E2CA79   0.00       NaN       NaN       NaN       NaN       NaN     NaN     NaN  80701.30        4.00   20175.33  60000.00   6840.15  26549.89  53159.85\n",
       "1  09F5B90D46FB7CCE   1.00 100000.00      1.00 100000.00 100000.00 100000.00     NaN    0.00      4.00        4.00       1.00      1.00      1.00      0.00      0.00\n",
       "2  E0C880EB18F4EFE8   1.00       NaN       NaN       NaN       NaN       NaN     NaN     NaN    302.00        3.00     100.67    300.00      1.00    172.63    299.00\n",
       "3  ED8FFDCCF93C2F11   1.00      2.00      1.00      2.00      2.00      2.00     NaN    0.00  53930.00        8.00    6741.25  24400.00    300.00  10920.22  24100.00\n",
       "4  8D2F48B0BFC40AB2   1.00   5003.50      2.00   2501.75   5000.00      3.50 3533.06 4996.50 473301.50      148.00    3197.98  20000.00      3.50   3708.12  19996.50"
      ]
     },
     "execution_count": 16,
     "metadata": {},
     "output_type": "execute_result"
    }
   ],
   "source": [
    "df_all.head()"
   ]
  },
  {
   "cell_type": "code",
   "execution_count": 15,
   "metadata": {},
   "outputs": [],
   "source": [
    "train_label = df_all[:len(train_label)] ;\n",
    "test_label = df_all[len(train_label):] ;"
   ]
  },
  {
   "cell_type": "code",
   "execution_count": 59,
   "metadata": {},
   "outputs": [],
   "source": [
    "def corr_filter(train_data,corr_threshold):\n",
    "    corr_data=train_data.corr()\n",
    "    corr_data=corr_data.where(np.triu(np.ones(corr_data.shape),k=1).astype(np.bool))\n",
    "    high_corr=[column for column in corr_data.columns if any(corr_data[column].abs()>corr_threshold)]\n",
    "    result=[c for c in train_data.columns if c not in high_corr]\n",
    "    print(\"筛选后特征:\",len(result))\n",
    "    return result"
   ]
  },
  {
   "cell_type": "code",
   "execution_count": 16,
   "metadata": {},
   "outputs": [],
   "source": [
    "cols = [f for f in train_label.columns if f not in ['账户代号','label']]"
   ]
  },
  {
   "cell_type": "code",
   "execution_count": 61,
   "metadata": {},
   "outputs": [
    {
     "name": "stdout",
     "output_type": "stream",
     "text": [
      "筛选后特征: 10\n"
     ]
    }
   ],
   "source": [
    "cols =corr_filter(train_label[cols],0.95)"
   ]
  },
  {
   "cell_type": "code",
   "execution_count": 17,
   "metadata": {},
   "outputs": [
    {
     "data": {
      "text/plain": [
       "['抹账_sum',\n",
       " '抹账_count',\n",
       " '抹账_mean',\n",
       " '抹账_max',\n",
       " '抹账_min',\n",
       " '抹账_std',\n",
       " '抹账_ptp',\n",
       " '深夜交易_sum',\n",
       " '深夜交易_count',\n",
       " '深夜交易_mean',\n",
       " '深夜交易_max',\n",
       " '深夜交易_min',\n",
       " '深夜交易_std',\n",
       " '深夜交易_ptp']"
      ]
     },
     "execution_count": 17,
     "metadata": {},
     "output_type": "execute_result"
    }
   ],
   "source": [
    "cols"
   ]
  },
  {
   "cell_type": "code",
   "execution_count": 34,
   "metadata": {},
   "outputs": [],
   "source": [
    "def 对抗验证获取数据(df_train,df_test,threshold):\n",
    "    # 定义新的Y\n",
    "    \n",
    "    \n",
    "    df_train['Is_Test'] = 0\n",
    "    df_test['Is_Test'] = 1\n",
    "    #print(df_train.columns)\n",
    "    #print(df_test.columns)\n",
    "    # 将 Train 和 Test 合成一个数据集。\n",
    "    df_adv = pd.concat([df_train, df_test])\n",
    "    #print(df_adv.columns)\n",
    "    #catecol_list_index=[list(df_train.columns).index(c) for c in df_train.select_dtypes(include=['category']).columns]\n",
    "    # 通过抗验证中的模型，得到各个样本属于测试集的概率\n",
    "\n",
    "\n",
    "    \n",
    "    model_adv =  lgb.LGBMClassifier()\n",
    "    model_adv.fit(df_adv.drop(['label','Is_Test'], axis=1), df_adv.loc[:, 'Is_Test'])\n",
    "    preds_adv = model_adv.predict_proba(df_adv.drop(['label','Is_Test'], axis=1))[:, 1]\n",
    "    \n",
    "    df_train_copy = df_train.copy()\n",
    "    df_train_copy['is_test_prob'] = preds_adv[:len(df_train)]\n",
    "\n",
    "    # 根据概率排序\n",
    "    df_train_copy = df_train_copy.sort_values('is_test_prob').reset_index(drop=True)\n",
    "\n",
    "    # 将概率最大的20%作为验证集\n",
    "    df_validation_2 = df_train_copy.iloc[int(threshold * len(df_train)):, ]\n",
    "    df_train_2 = df_train_copy.iloc[:int(threshold * len(df_train)), ]\n",
    "    return df_validation_2.drop(['is_test_prob','Is_Test'], axis=1)#,df_train_copy.drop(['Is_Test'],axis=1)\n",
    "def 对抗验证获得新的列(df_train,df_test,threshold):\n",
    "    # 定义新的Y\n",
    "    df_train['Is_Test'] = 0\n",
    "    df_test['Is_Test'] = 1\n",
    "\n",
    "    # 将 Train 和 Test 合成一个数据集。\n",
    "    df_adv = pd.concat([df_train, df_test])\n",
    "\n",
    "    # 通过抗验证中的模型，得到各个样本属于测试集的概率\n",
    "    other_param={'boosting_type':'gbdt','num_leaves':32,'max_depth':10,'n_estimators':200,'objective':'binary','subsample':0.7,'colsample_bytree':0.8,'subsample_freq':1,\n",
    "               'min_child_weight':0.9,'learning_rate':0.08}\n",
    "    model_adv =  lgb.LGBMClassifier(**other_param)\n",
    "    model_adv.fit(df_adv.drop('Is_Test', axis=1), df_adv.loc[:, 'Is_Test'])\n",
    "    #preds_adv = model_adv.predict_proba(df_adv.drop('Is_Test', axis=1))[:, 1]\n",
    "    \n",
    "    im=pd.DataFrame({'colname':df_train.drop(['Is_Test'],axis=1).columns,'importance':model_adv.feature_importances_})\n",
    "\n",
    "    im=im.sort_values(by='importance',ascending=False)\n",
    "        \n",
    "    new_cat=im.reset_index().loc[round(len(im)*threshold):,'colname']\n",
    "    print('对抗验证后的特征数量为:',len(new_cat))\n",
    "    return new_cat"
   ]
  },
  {
   "cell_type": "code",
   "execution_count": 35,
   "metadata": {},
   "outputs": [
    {
     "name": "stdout",
     "output_type": "stream",
     "text": [
      "对抗验证后的特征数量为: 6\n"
     ]
    }
   ],
   "source": [
    "new_cat=对抗验证获得新的列(train_label[cols].copy(),test_label[cols].copy(),0.6)\n",
    "cols=list(new_cat)\n",
    "col_valid=cols.copy()\n",
    "col_valid.append('label')\n",
    "valid=对抗验证获取数据(train_label[col_valid].copy(),test_label[cols].copy(),0.8)"
   ]
  },
  {
   "cell_type": "code",
   "execution_count": 36,
   "metadata": {},
   "outputs": [
    {
     "data": {
      "text/plain": [
       "['抹账_min', '抹账_mean', '抹账_max', '抹账_std', '抹账_count', '抹账_ptp']"
      ]
     },
     "execution_count": 36,
     "metadata": {},
     "output_type": "execute_result"
    }
   ],
   "source": [
    "cols"
   ]
  },
  {
   "cell_type": "code",
   "execution_count": 31,
   "metadata": {},
   "outputs": [],
   "source": [
    "def cv_model(clf, train_x, train_y, test_x, clf_name,valid_x):\n",
    "    folds = 5\n",
    "    seed = 2023\n",
    "    kf = StratifiedKFold(n_splits=folds, shuffle=True, random_state=seed)\n",
    "    \n",
    "    oof = np.zeros(train_x.shape[0])\n",
    "    predict = np.zeros(test_x.shape[0])\n",
    "    predict_valid = np.zeros(valid_x.shape[0])\n",
    "    cv_scores = []\n",
    "\n",
    "    for i, (train_index, valid_index) in enumerate(kf.split(train_x, train_y)):\n",
    "        print('************************************ {} ************************************'.format(str(i+1)))\n",
    "        trn_x, trn_y, val_x, val_y = train_x.iloc[train_index], train_y[train_index], train_x.iloc[valid_index], train_y[valid_index]\n",
    "\n",
    "        if clf_name == \"lgb\":\n",
    "            train_matrix = clf.Dataset(trn_x, label=trn_y)\n",
    "            valid_matrix = clf.Dataset(val_x, label=val_y)\n",
    "\n",
    "            params = {\n",
    "                'boosting_type': 'gbdt',\n",
    "                'objective': 'binary',\n",
    "                'metric': 'auc',\n",
    "                'min_child_weight': 5,\n",
    "                'num_leaves': 2 ** 5,\n",
    "                'lambda_l2': 10,\n",
    "                'feature_fraction': 0.8,\n",
    "                'bagging_fraction': 0.8,\n",
    "                'bagging_freq': 4,\n",
    "                'learning_rate': 0.01,\n",
    "                'seed': 2020,\n",
    "                'n_jobs':8\n",
    "            }\n",
    "\n",
    "            model = clf.train(params, train_matrix, 10000, valid_sets=[train_matrix, valid_matrix], \n",
    "                              categorical_feature=[], verbose_eval=200, early_stopping_rounds=200)\n",
    "            val_pred = model.predict(val_x, num_iteration=model.best_iteration)\n",
    "            test_pred = model.predict(test_x, num_iteration=model.best_iteration)\n",
    "            \n",
    "            print(list(sorted(zip(features, model.feature_importance(\"gain\")), key=lambda x: x[1], reverse=True))[:20])\n",
    "                \n",
    "        if clf_name == \"xgb\":\n",
    "            train_matrix = clf.DMatrix(trn_x , label=trn_y)\n",
    "            valid_matrix = clf.DMatrix(val_x , label=val_y)\n",
    "            test_matrix = clf.DMatrix(test_x)\n",
    "            \n",
    "            params = {'booster': 'gbtree',\n",
    "                      'objective': 'binary:logistic',\n",
    "                      'eval_metric': 'auc',\n",
    "                      'gamma': 1,\n",
    "                      'min_child_weight': 1.5,\n",
    "                      'max_depth': 5,\n",
    "                      'lambda': 10,\n",
    "                      'subsample': 0.7,\n",
    "                      'colsample_bytree': 0.7,\n",
    "                      'colsample_bylevel': 0.7,\n",
    "                      'eta': 0.05,\n",
    "                      'tree_method': 'exact',\n",
    "                      'seed': 2020,\n",
    "                      'nthread': 8\n",
    "                      }\n",
    "            \n",
    "            watchlist = [(train_matrix, 'train'),(valid_matrix, 'eval')]\n",
    "            \n",
    "            model = clf.train(params, train_matrix, num_boost_round=10000, evals=watchlist, verbose_eval=1000, early_stopping_rounds=500)\n",
    "            val_pred  = model.predict(valid_matrix, ntree_limit=model.best_ntree_limit)\n",
    "            test_pred = model.predict(test_matrix , ntree_limit=model.best_ntree_limit)\n",
    "            \n",
    "            valid_dk_matrix = clf.DMatrix(valid_x)\n",
    "            valid_pred= model.predict(valid_dk_matrix, ntree_limit=model.best_ntree_limit)\n",
    "        if clf_name == \"cat\":\n",
    "            model = clf(\n",
    "                        n_estimators=10000,\n",
    "                        random_seed=2023,\n",
    "                        eval_metric='AUC',\n",
    "                        learning_rate=0.05,\n",
    "                        max_depth=7,\n",
    "                        early_stopping_rounds=200,\n",
    "                        metric_period=500,\n",
    "                    )\n",
    "\n",
    "            model.fit(trn_x, trn_y, eval_set=(val_x, val_y),\n",
    "                      use_best_model=True,\n",
    "                      verbose=1)\n",
    "            \n",
    "            val_pred  = model.predict_proba(val_x)[:,1]\n",
    "            test_pred = model.predict_proba(test_x)[:,1]\n",
    "            valid_pred= model.predict_proba(valid_x)[:,1]\n",
    "            \n",
    "        oof[valid_index] = val_pred\n",
    "        predict += test_pred / kf.n_splits\n",
    "        predict_valid +=valid_pred / kf.n_splits\n",
    "        cv_scores.append(roc_auc_score(val_y, val_pred))\n",
    "        print(cv_scores)\n",
    "       \n",
    "    return oof, predict,predict_valid,model"
   ]
  },
  {
   "cell_type": "code",
   "execution_count": 32,
   "metadata": {},
   "outputs": [
    {
     "ename": "NameError",
     "evalue": "name 'valid' is not defined",
     "output_type": "error",
     "traceback": [
      "\u001b[1;31m---------------------------------------------------------------------------\u001b[0m",
      "\u001b[1;31mNameError\u001b[0m                                 Traceback (most recent call last)",
      "\u001b[1;32m~\\AppData\\Local\\Temp\\ipykernel_29932\\3734765692.py\u001b[0m in \u001b[0;36m<module>\u001b[1;34m\u001b[0m\n\u001b[1;32m----> 1\u001b[1;33m \u001b[0mxgb_oof\u001b[0m\u001b[1;33m,\u001b[0m \u001b[0mxgb_pred\u001b[0m\u001b[1;33m,\u001b[0m\u001b[0mxgb_valid_pred\u001b[0m\u001b[1;33m,\u001b[0m\u001b[0mclf\u001b[0m \u001b[1;33m=\u001b[0m \u001b[0mcv_model\u001b[0m\u001b[1;33m(\u001b[0m\u001b[0mCatBoostClassifier\u001b[0m\u001b[1;33m,\u001b[0m \u001b[0mtrain_label\u001b[0m\u001b[1;33m[\u001b[0m\u001b[0mcols\u001b[0m\u001b[1;33m]\u001b[0m\u001b[1;33m,\u001b[0m \u001b[0mtrain_label\u001b[0m\u001b[1;33m[\u001b[0m\u001b[1;34m'label'\u001b[0m\u001b[1;33m]\u001b[0m\u001b[1;33m,\u001b[0m \u001b[0mtest_label\u001b[0m\u001b[1;33m[\u001b[0m\u001b[0mcols\u001b[0m\u001b[1;33m]\u001b[0m\u001b[1;33m,\u001b[0m \u001b[1;34m'cat'\u001b[0m\u001b[1;33m,\u001b[0m\u001b[0mvalid\u001b[0m\u001b[1;33m[\u001b[0m\u001b[0mcols\u001b[0m\u001b[1;33m]\u001b[0m\u001b[1;33m)\u001b[0m\u001b[1;33m\u001b[0m\u001b[1;33m\u001b[0m\u001b[0m\n\u001b[0m\u001b[0;32m      2\u001b[0m \u001b[1;31m#xgb_oof, xgb_pred,xgb_valid_pred,clf = cv_model(xgb, train_label[cols], train_label['label'], test_label[cols], 'xgb',valid[cols])\u001b[0m\u001b[1;33m\u001b[0m\u001b[1;33m\u001b[0m\u001b[0m\n",
      "\u001b[1;31mNameError\u001b[0m: name 'valid' is not defined"
     ]
    }
   ],
   "source": [
    "xgb_oof, xgb_pred,xgb_valid_pred,clf = cv_model(CatBoostClassifier, train_label[cols], train_label['label'], test_label[cols], 'cat',valid[cols])\n",
    "#xgb_oof, xgb_pred,xgb_valid_pred,clf = cv_model(xgb, train_label[cols], train_label['label'], test_label[cols], 'xgb',valid[cols])\n"
   ]
  },
  {
   "cell_type": "code",
   "execution_count": 29,
   "metadata": {},
   "outputs": [
    {
     "ename": "NameError",
     "evalue": "name 'valid' is not defined",
     "output_type": "error",
     "traceback": [
      "\u001b[1;31m---------------------------------------------------------------------------\u001b[0m",
      "\u001b[1;31mNameError\u001b[0m                                 Traceback (most recent call last)",
      "\u001b[1;32m~\\AppData\\Local\\Temp\\ipykernel_29932\\3346616586.py\u001b[0m in \u001b[0;36m<module>\u001b[1;34m\u001b[0m\n\u001b[1;32m----> 1\u001b[1;33m \u001b[0mvalid\u001b[0m\u001b[1;33m\u001b[0m\u001b[1;33m\u001b[0m\u001b[0m\n\u001b[0m",
      "\u001b[1;31mNameError\u001b[0m: name 'valid' is not defined"
     ]
    }
   ],
   "source": [
    "valid"
   ]
  },
  {
   "cell_type": "code",
   "execution_count": 39,
   "metadata": {},
   "outputs": [
    {
     "data": {
      "image/png": "[encoded data removed]",
      "text/plain": [
       "<Figure size 800x310 with 2 Axes>"
      ]
     },
     "metadata": {},
     "output_type": "display_data"
    }
   ],
   "source": [
    "\n",
    "explainer = shap.TreeExplainer(clf)\n",
    "\n",
    "shap_values = explainer.shap_values(train_label[cols])\n",
    "#shap.summary_plot(shap_values[1], train_label[cols])\n",
    "shap.summary_plot(shap_values, train_label[cols])"
   ]
  },
  {
   "cell_type": "code",
   "execution_count": 40,
   "metadata": {},
   "outputs": [],
   "source": [
    "wrap_features=pd.DataFrame()\n",
    "wrap_features['cols']=cols\n",
    "wrap_features['shap']=abs(shap_values).sum(axis=0)\n",
    "wrap_features.sort_values(by='shap',ascending=False,inplace=True)\n",
    "wrap_features.index=range(len(wrap_features))\n",
    "wrap_features=wrap_features[:100]['cols']"
   ]
  },
  {
   "cell_type": "code",
   "execution_count": 41,
   "metadata": {},
   "outputs": [
    {
     "name": "stdout",
     "output_type": "stream",
     "text": [
      "************************************ 1 ************************************\n",
      "[0]\ttrain-auc:0.59918\teval-auc:0.59069\n",
      "[500]\ttrain-auc:0.60268\teval-auc:0.58528\n",
      "[0.592824074074074]\n",
      "************************************ 2 ************************************\n",
      "[0]\ttrain-auc:0.60216\teval-auc:0.59144\n",
      "[699]\ttrain-auc:0.61155\teval-auc:0.57625\n",
      "[0.592824074074074, 0.5927314814814815]\n",
      "************************************ 3 ************************************\n",
      "[0]\ttrain-auc:0.60069\teval-auc:0.57778\n",
      "[1000]\ttrain-auc:0.60991\teval-auc:0.58181\n",
      "[1113]\ttrain-auc:0.60999\teval-auc:0.58125\n",
      "[0.592824074074074, 0.5927314814814815, 0.5820833333333334]\n",
      "************************************ 4 ************************************\n",
      "[0]\ttrain-auc:0.59631\teval-auc:0.61259\n",
      "[828]\ttrain-auc:0.60001\teval-auc:0.62500\n",
      "[0.592824074074074, 0.5927314814814815, 0.5820833333333334, 0.6251851851851852]\n",
      "************************************ 5 ************************************\n",
      "[0]\ttrain-auc:0.59502\teval-auc:0.60421\n",
      "[510]\ttrain-auc:0.59733\teval-auc:0.60620\n",
      "[0.592824074074074, 0.5927314814814815, 0.5820833333333334, 0.6251851851851852, 0.6100925925925925]\n"
     ]
    }
   ],
   "source": [
    "#xgb_oof, xgb_pred,xgb_valid_pred,clf = cv_model(CatBoostClassifier, train_label[cols], train_label['label'], test_label[cols], 'cat',valid.drop('label',axis=1))\n",
    "xgb_oof, xgb_pred,xgb_valid_pred,clf = cv_model(xgb, train_label[wrap_features], train_label['label'], test_label[wrap_features], 'xgb',valid[wrap_features])"
   ]
  },
  {
   "cell_type": "code",
   "execution_count": 42,
   "metadata": {},
   "outputs": [
    {
     "name": "stdout",
     "output_type": "stream",
     "text": [
      "0.40, 0.5609362389023407\n",
      "0.41, 0.5609362389023407\n",
      "0.42, 0.5609362389023407\n",
      "0.43, 0.5615637559371575\n",
      "0.44, 0.5621917729435953\n",
      "0.45, 0.5625433125433126\n",
      "0.46, 0.5631716484308594\n",
      "0.47, 0.5597280195873096\n",
      "0.48, 0.5779159981982984\n",
      "0.49, 0.5763968314482992\n",
      "0.50, 0.5660754244174642\n",
      "0.51, 0.5537108939170795\n",
      "0.52, 0.5322709308059944\n",
      "0.53, 0.5157962934547252\n",
      "0.54, 0.5046250814477491\n",
      "0.55, 0.49964478266365053\n",
      "0.56, 0.49710807941720614\n",
      "0.57, 0.4975845410628019\n",
      "0.58, 0.4853015127402666\n",
      "0.59, 0.48306008159541847\n",
      "最高分:0.48, 0.5779159981982984\n",
      "对抗验证分:0.4312796208530806\n"
     ]
    }
   ],
   "source": [
    "oof = xgb_oof\n",
    "scores = []; thresholds = []\n",
    "best_score = 0; best_threshold = 0\n",
    "\n",
    "for threshold in np.arange(0.4,0.6,0.01):\n",
    "    preds = (oof.reshape((-1))>threshold).astype('int')\n",
    "    m = f1_score(train_label['label'].values.reshape((-1)), preds, average='macro')   \n",
    "    scores.append(m)\n",
    "    thresholds.append(threshold)\n",
    "    if m>best_score:\n",
    "        best_score = m\n",
    "        best_threshold = threshold\n",
    "    print(f'{threshold:.02f}, {m}')\n",
    "print(f'最高分:{best_threshold:.2f}, {best_score}')\n",
    "\n",
    "m_valid = f1_score(valid['label'].values, (xgb_valid_pred>best_threshold).astype('int'), average='macro')   \n",
    "\n",
    "print(f'对抗验证分:{m_valid}')\n",
    "# 0.47, 0.9150898680694286 # 0.86579572447\n",
    "# 0.43, 0.9217716422203048 # 0.86697783\n",
    "# 0.41, 0.9198568108353592 # 0.87674418605\n",
    "# 0.40, 0.9231997065541027 # 0.87819025522\n",
    "# 0.42, 0.913822737200522  # 0.87639132982 \n",
    "# 0.40, 0.9148403872302214 # 0.88313184"
   ]
  },
  {
   "cell_type": "code",
   "execution_count": 43,
   "metadata": {},
   "outputs": [
    {
     "ename": "PermissionError",
     "evalue": "[Errno 13] Permission denied: 'submission20230305.csv'",
     "output_type": "error",
     "traceback": [
      "\u001b[1;31m---------------------------------------------------------------------------\u001b[0m",
      "\u001b[1;31mPermissionError\u001b[0m                           Traceback (most recent call last)",
      "\u001b[1;32m~\\AppData\\Local\\Temp\\ipykernel_30256\\2516380535.py\u001b[0m in \u001b[0;36m<module>\u001b[1;34m\u001b[0m\n\u001b[0;32m      3\u001b[0m \u001b[0mresult\u001b[0m\u001b[1;33m=\u001b[0m\u001b[0mtest_label\u001b[0m\u001b[1;33m[\u001b[0m\u001b[1;33m[\u001b[0m\u001b[1;34m'账户代号'\u001b[0m\u001b[1;33m,\u001b[0m\u001b[1;34m'label'\u001b[0m\u001b[1;33m]\u001b[0m\u001b[1;33m]\u001b[0m\u001b[1;33m\u001b[0m\u001b[1;33m\u001b[0m\u001b[0m\n\u001b[0;32m      4\u001b[0m \u001b[0mresult\u001b[0m\u001b[1;33m.\u001b[0m\u001b[0mcolumns\u001b[0m\u001b[1;33m=\u001b[0m\u001b[1;33m[\u001b[0m\u001b[1;34m'zhdh'\u001b[0m\u001b[1;33m,\u001b[0m\u001b[1;34m'black_flag'\u001b[0m\u001b[1;33m]\u001b[0m\u001b[1;33m\u001b[0m\u001b[1;33m\u001b[0m\u001b[0m\n\u001b[1;32m----> 5\u001b[1;33m \u001b[0mresult\u001b[0m\u001b[1;33m.\u001b[0m\u001b[0mto_csv\u001b[0m\u001b[1;33m(\u001b[0m\u001b[1;34m'submission20230305.csv'\u001b[0m\u001b[1;33m,\u001b[0m \u001b[0mindex\u001b[0m\u001b[1;33m=\u001b[0m\u001b[1;32mFalse\u001b[0m\u001b[1;33m)\u001b[0m\u001b[1;33m\u001b[0m\u001b[1;33m\u001b[0m\u001b[0m\n\u001b[0m\u001b[0;32m      6\u001b[0m \u001b[0mresult\u001b[0m\u001b[1;33m[\u001b[0m\u001b[1;34m'black_flag'\u001b[0m\u001b[1;33m]\u001b[0m\u001b[1;33m.\u001b[0m\u001b[0mvalue_counts\u001b[0m\u001b[1;33m(\u001b[0m\u001b[1;33m)\u001b[0m\u001b[1;33m\u001b[0m\u001b[1;33m\u001b[0m\u001b[0m\n",
      "\u001b[1;32mc:\\ProgramData\\Anaconda3\\lib\\site-packages\\pandas\\core\\generic.py\u001b[0m in \u001b[0;36mto_csv\u001b[1;34m(self, path_or_buf, sep, na_rep, float_format, columns, header, index, index_label, mode, encoding, compression, quoting, quotechar, line_terminator, chunksize, date_format, doublequote, escapechar, decimal, errors, storage_options)\u001b[0m\n\u001b[0;32m   3549\u001b[0m         )\n\u001b[0;32m   3550\u001b[0m \u001b[1;33m\u001b[0m\u001b[0m\n\u001b[1;32m-> 3551\u001b[1;33m         return DataFrameRenderer(formatter).to_csv(\n\u001b[0m\u001b[0;32m   3552\u001b[0m             \u001b[0mpath_or_buf\u001b[0m\u001b[1;33m,\u001b[0m\u001b[1;33m\u001b[0m\u001b[1;33m\u001b[0m\u001b[0m\n\u001b[0;32m   3553\u001b[0m             \u001b[0mline_terminator\u001b[0m\u001b[1;33m=\u001b[0m\u001b[0mline_terminator\u001b[0m\u001b[1;33m,\u001b[0m\u001b[1;33m\u001b[0m\u001b[1;33m\u001b[0m\u001b[0m\n",
      "\u001b[1;32mc:\\ProgramData\\Anaconda3\\lib\\site-packages\\pandas\\io\\formats\\format.py\u001b[0m in \u001b[0;36mto_csv\u001b[1;34m(self, path_or_buf, encoding, sep, columns, index_label, mode, compression, quoting, quotechar, line_terminator, chunksize, date_format, doublequote, escapechar, errors, storage_options)\u001b[0m\n\u001b[0;32m   1178\u001b[0m             \u001b[0mformatter\u001b[0m\u001b[1;33m=\u001b[0m\u001b[0mself\u001b[0m\u001b[1;33m.\u001b[0m\u001b[0mfmt\u001b[0m\u001b[1;33m,\u001b[0m\u001b[1;33m\u001b[0m\u001b[1;33m\u001b[0m\u001b[0m\n\u001b[0;32m   1179\u001b[0m         )\n\u001b[1;32m-> 1180\u001b[1;33m         \u001b[0mcsv_formatter\u001b[0m\u001b[1;33m.\u001b[0m\u001b[0msave\u001b[0m\u001b[1;33m(\u001b[0m\u001b[1;33m)\u001b[0m\u001b[1;33m\u001b[0m\u001b[1;33m\u001b[0m\u001b[0m\n\u001b[0m\u001b[0;32m   1181\u001b[0m \u001b[1;33m\u001b[0m\u001b[0m\n\u001b[0;32m   1182\u001b[0m         \u001b[1;32mif\u001b[0m \u001b[0mcreated_buffer\u001b[0m\u001b[1;33m:\u001b[0m\u001b[1;33m\u001b[0m\u001b[1;33m\u001b[0m\u001b[0m\n",
      "\u001b[1;32mc:\\ProgramData\\Anaconda3\\lib\\site-packages\\pandas\\io\\formats\\csvs.py\u001b[0m in \u001b[0;36msave\u001b[1;34m(self)\u001b[0m\n\u001b[0;32m    239\u001b[0m         \"\"\"\n\u001b[0;32m    240\u001b[0m         \u001b[1;31m# apply compression and byte/text conversion\u001b[0m\u001b[1;33m\u001b[0m\u001b[1;33m\u001b[0m\u001b[0m\n\u001b[1;32m--> 241\u001b[1;33m         with get_handle(\n\u001b[0m\u001b[0;32m    242\u001b[0m             \u001b[0mself\u001b[0m\u001b[1;33m.\u001b[0m\u001b[0mfilepath_or_buffer\u001b[0m\u001b[1;33m,\u001b[0m\u001b[1;33m\u001b[0m\u001b[1;33m\u001b[0m\u001b[0m\n\u001b[0;32m    243\u001b[0m             \u001b[0mself\u001b[0m\u001b[1;33m.\u001b[0m\u001b[0mmode\u001b[0m\u001b[1;33m,\u001b[0m\u001b[1;33m\u001b[0m\u001b[1;33m\u001b[0m\u001b[0m\n",
      "\u001b[1;32mc:\\ProgramData\\Anaconda3\\lib\\site-packages\\pandas\\io\\common.py\u001b[0m in \u001b[0;36mget_handle\u001b[1;34m(path_or_buf, mode, encoding, compression, memory_map, is_text, errors, storage_options)\u001b[0m\n\u001b[0;32m    784\u001b[0m         \u001b[1;32mif\u001b[0m \u001b[0mioargs\u001b[0m\u001b[1;33m.\u001b[0m\u001b[0mencoding\u001b[0m \u001b[1;32mand\u001b[0m \u001b[1;34m\"b\"\u001b[0m \u001b[1;32mnot\u001b[0m \u001b[1;32min\u001b[0m \u001b[0mioargs\u001b[0m\u001b[1;33m.\u001b[0m\u001b[0mmode\u001b[0m\u001b[1;33m:\u001b[0m\u001b[1;33m\u001b[0m\u001b[1;33m\u001b[0m\u001b[0m\n\u001b[0;32m    785\u001b[0m             \u001b[1;31m# Encoding\u001b[0m\u001b[1;33m\u001b[0m\u001b[1;33m\u001b[0m\u001b[0m\n\u001b[1;32m--> 786\u001b[1;33m             handle = open(\n\u001b[0m\u001b[0;32m    787\u001b[0m                 \u001b[0mhandle\u001b[0m\u001b[1;33m,\u001b[0m\u001b[1;33m\u001b[0m\u001b[1;33m\u001b[0m\u001b[0m\n\u001b[0;32m    788\u001b[0m                 \u001b[0mioargs\u001b[0m\u001b[1;33m.\u001b[0m\u001b[0mmode\u001b[0m\u001b[1;33m,\u001b[0m\u001b[1;33m\u001b[0m\u001b[1;33m\u001b[0m\u001b[0m\n",
      "\u001b[1;31mPermissionError\u001b[0m: [Errno 13] Permission denied: 'submission20230305.csv'"
     ]
    }
   ],
   "source": [
    "pred = xgb_pred\n",
    "test_label['label'] = (pred.reshape((-1))>0.42).astype('int')\n",
    "result=test_label[['账户代号','label']]\n",
    "result.columns=['zhdh','black_flag']\n",
    "result.to_csv('submission20230305.csv', index=False)\n",
    "result['black_flag'].value_counts()"
   ]
  }
 ],
 "metadata": {
  "kernelspec": {
   "display_name": "base",
   "language": "python",
   "name": "python3"
  },
  "language_info": {
   "codemirror_mode": {
    "name": "ipython",
    "version": 3
   },
   "file_extension": ".py",
   "mimetype": "text/x-python",
   "name": "python",
   "nbconvert_exporter": "python",
   "pygments_lexer": "ipython3",
   "version": "3.9.13"
  },
  "orig_nbformat": 4
 },
 "nbformat": 4,
 "nbformat_minor": 2
}
